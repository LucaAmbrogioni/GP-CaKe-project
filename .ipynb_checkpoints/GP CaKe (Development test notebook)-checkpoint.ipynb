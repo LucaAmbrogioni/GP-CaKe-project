{
 "cells": [
  {
   "cell_type": "markdown",
   "metadata": {},
   "source": [
    "**To-do list**\n",
    "\n",
    "* Implement return of noise level.\n",
    "* Implement usage of structural constraint in GP CaKe.\n",
    "* Run some simulations to test efficacy of EB method for parameter selection.\n",
    "* Add diagnostic tools.\n",
    "* Add method for setting last parameters (i.e. temporal localization).\n",
    "* Add univariate approach for large networks.\n",
    "* Make transposition of adj_mat, ground_truth and structural_constraint consistent. Currently the latter is transposed with respect to the others. Adj_mat and ground_truth are consistent with matrix notation of an adjacency matrix and the utility.plot_connectivity(), but this can of course be changed. If the structural constraint must be transposed, is the utility.nested_map() correctly implemented?"
   ]
  },
  {
   "cell_type": "code",
   "execution_count": 4,
   "metadata": {
    "collapsed": false
   },
   "outputs": [],
   "source": [
    "%matplotlib inline\n",
    "import numpy as np\n",
    "import importlib as imp\n",
    "#from importlib import reload # for python 3\n",
    "\n",
    "\"\"\"\n",
    "Simulation and GP-CaKe packages.\n",
    "\"\"\"\n",
    "\n",
    "import simulator as sim\n",
    "import gpcake\n",
    "import utility\n",
    "import matplotlib.pyplot as plt\n",
    "#import diagnostics"
   ]
  },
  {
   "cell_type": "code",
   "execution_count": 5,
   "metadata": {
    "collapsed": true
   },
   "outputs": [],
   "source": [
    "p                       = 3\n",
    "adj_mat                 = np.zeros((p,p))\n",
    "adj_mat[0,1]            = 1\n",
    "adj_mat[0,2]            = 1\n",
    "connection_strength     = 5.0\n",
    "time_step               = 0.01\n",
    "time_period             = 4.\n",
    "time_range              = np.arange(-time_period / 2, time_period / 2, time_step)\n",
    "n                       = int(time_period / time_step)\n",
    "simulation_params       = {'network'                : adj_mat,\n",
    "                           'connection_strength'    : connection_strength,\n",
    "                           'time_step'              : time_step,\n",
    "                           'time_period'            : time_period}\n",
    "\n",
    "ntrials_train                                       = 50\n",
    "ntrials_test                                        = 50\n",
    "simulation                                          = sim.integroDifferential_simulator()\n",
    "simulation.dynamic_parameters[\"connectivity_relaxations_constants\"] = [[0.0,8.0],[8.0,0.0]]\n",
    "connectivity_relaxation = 10.\n",
    "(training_samples, testing_samples, ground_truth)   = simulation.simulate_network_dynamics(ntrials_train, \n",
    "                                                                                           ntrials_test, \n",
    "                                                                                           simulation_params,\n",
    "                                                                                           connectivity_relaxation = connectivity_relaxation)"
   ]
  },
  {
   "cell_type": "markdown",
   "metadata": {},
   "source": [
    "Plot a few samples to see the generated time series."
   ]
  },
  {
   "cell_type": "code",
   "execution_count": null,
   "metadata": {
    "collapsed": false
   },
   "outputs": [],
   "source": [
    "utility.plot_samples(training_samples[0:3])"
   ]
  },
  {
   "cell_type": "code",
   "execution_count": null,
   "metadata": {
    "collapsed": true
   },
   "outputs": [],
   "source": [
    "reload(gpcake)\n",
    "reload(utility)\n",
    "reload(diagnostics)\n",
    "cake = gpcake.gpcake()\n",
    "cake.initialize_time_parameters(time_step, time_period)\n",
    "cake.dynamic_parameters[\"number_sources\"] = p\n",
    "cake.dynamic_type = \"Relaxation\""
   ]
  },
  {
   "cell_type": "code",
   "execution_count": null,
   "metadata": {
    "collapsed": true
   },
   "outputs": [],
   "source": [
    "cake.dynamic_parameters = simulation.dynamic_parameters\n",
    "# This should be replaced by the univariate likelihood maximization for empirical data."
   ]
  },
  {
   "cell_type": "code",
   "execution_count": null,
   "metadata": {
    "collapsed": false
   },
   "outputs": [],
   "source": [
    "parameter_dict = cake.empirical_bayes_parameter_fit(training_samples, show_diagnostics=True)\n",
    "# Note: our analysis fails if p=2, which induces symmetric log-likelihood ratios and scales,\n",
    "# which causes their std to be 0 and hence the normalization throws an error.\n",
    "\n",
    "# K-means clustering gives a different labeling of the edges than the criteria we specified, since they are different features. \n",
    "# Should we not base all on the same?"
   ]
  },
  {
   "cell_type": "code",
   "execution_count": null,
   "metadata": {
    "collapsed": false
   },
   "outputs": [],
   "source": [
    "nu = parameter_dict['time_scale']\n",
    "G = parameter_dict['structural_connectivity']\n",
    "sigma = parameter_dict['noise_level']\n",
    "print nu\n",
    "print G\n",
    "print sigma"
   ]
  },
  {
   "cell_type": "code",
   "execution_count": null,
   "metadata": {
    "collapsed": false
   },
   "outputs": [],
   "source": [
    "\n",
    "t_s    = 0.05   # temporal offset / time shift\n",
    "theta  = np.pi  # temporal localization\n",
    "\n",
    "cake.covariance_parameters = {  \"time_scale\"        : nu,     # Temporal smoothing\n",
    "                                \"time_shift\"        : t_s,     # Temporal offset\n",
    "                                \"causal\"            : \"yes\",    # Hilbert transform\n",
    "                                \"spectral_smoothing\": theta }   # Temporal localization\n",
    "cake.noise_level = sigma\n",
    "\n",
    "connectivity = cake.run_analysis(testing_samples)\n",
    "utility.plot_connectivity(ground_truth, connectivity, time_range, t0=-0.5)\n"
   ]
  },
  {
   "cell_type": "code",
   "execution_count": null,
   "metadata": {
    "collapsed": false
   },
   "outputs": [],
   "source": [
    "mse_scores = utility.estimation_error(ground_truth, connectivity)\n",
    "print np.mean(mse_scores)"
   ]
  },
  {
   "cell_type": "code",
   "execution_count": null,
   "metadata": {
    "collapsed": true
   },
   "outputs": [],
   "source": []
  }
 ],
 "metadata": {
  "anaconda-cloud": {},
  "kernelspec": {
   "display_name": "Python [conda root]",
   "language": "python",
   "name": "conda-root-py"
  },
  "language_info": {
   "codemirror_mode": {
    "name": "ipython",
    "version": 2
   },
   "file_extension": ".py",
   "mimetype": "text/x-python",
   "name": "python",
   "nbconvert_exporter": "python",
   "pygments_lexer": "ipython2",
   "version": "2.7.13"
  }
 },
 "nbformat": 4,
 "nbformat_minor": 2
}
