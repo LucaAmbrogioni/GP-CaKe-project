{
 "cells": [
  {
   "cell_type": "code",
   "execution_count": 1,
   "metadata": {
    "collapsed": false
   },
   "outputs": [],
   "source": [
    "%matplotlib inline\n",
    "import numpy as np\n",
    "\n",
    "\"\"\"\n",
    "Simulation and GP-CaKe packages.\n",
    "\"\"\"\n",
    "\n",
    "import simulator as sim\n",
    "import gpcake\n",
    "import utility\n",
    "import matplotlib.pyplot as plt"
   ]
  },
  {
   "cell_type": "code",
   "execution_count": null,
   "metadata": {
    "collapsed": false
   },
   "outputs": [],
   "source": [
    "p                       = 2\n",
    "adj_mat                 = np.zeros((p,p))\n",
    "adj_mat[0,1]            = 1\n",
    "connection_strength     = .0\n",
    "time_step               = 0.01\n",
    "time_period             = 4.\n",
    "time_range              = np.arange(-time_period / 2, time_period / 2, time_step)\n",
    "n                       = int(time_period / time_step)\n",
    "simulation_params       = {'network'                : adj_mat,\n",
    "                           'connection_strength'    : connection_strength,\n",
    "                           'time_step'              : time_step,\n",
    "                           'time_period'            : time_period}\n",
    "\n",
    "ntrials_train                                       = 500\n",
    "ntrials_test                                        = 500\n",
    "simulation                                          = sim.integroDifferential_simulator()\n",
    "\n",
    "(training_samples, testing_samples, ground_truth)   = simulation.simulate_network_dynamics(ntrials_train, \n",
    "                                                                                           ntrials_test, \n",
    "                                                                                           simulation_params)"
   ]
  },
  {
   "cell_type": "markdown",
   "metadata": {},
   "source": [
    "Plot a few samples to see the generated time series."
   ]
  },
  {
   "cell_type": "code",
   "execution_count": null,
   "metadata": {
    "collapsed": false
   },
   "outputs": [],
   "source": [
    "utility.plot_samples(training_samples[0:3])"
   ]
  },
  {
   "cell_type": "code",
   "execution_count": null,
   "metadata": {
    "collapsed": false
   },
   "outputs": [],
   "source": [
    "cake = gpcake.gpcake()\n",
    "cake.initialize_time_parameters(time_step, time_period)\n",
    "cake.dynamic_parameters[\"number_sources\"] = p\n",
    "cake.dynamic_type = \"Relaxation\""
   ]
  },
  {
   "cell_type": "code",
   "execution_count": null,
   "metadata": {
    "collapsed": false
   },
   "outputs": [],
   "source": [
    "cake.dynamic_parameters = simulation.dynamic_parameters\n",
    "\n",
    "#cake.learn_dynamic_parameters(training_samples, dynamic_parameters_range)"
   ]
  },
  {
   "cell_type": "code",
   "execution_count": null,
   "metadata": {
    "collapsed": false
   },
   "outputs": [],
   "source": [
    "empirical_results = cake.empirical_bayes_analysis(training_samples)"
   ]
  },
  {
   "cell_type": "code",
   "execution_count": null,
   "metadata": {
    "collapsed": false
   },
   "outputs": [],
   "source": [
    "empirical_results[0][0]"
   ]
  },
  {
   "cell_type": "code",
   "execution_count": null,
   "metadata": {
    "collapsed": false
   },
   "outputs": [],
   "source": [
    "simulation.dynamic_parameters"
   ]
  },
  {
   "cell_type": "code",
   "execution_count": null,
   "metadata": {
    "collapsed": false
   },
   "outputs": [],
   "source": [
    "empiric_covariance = []\n",
    "empiric_covariance = [float(np.real(empirical_results[0][j][\"ls_second_moment\"])) for j in range(0,400)]\n",
    "empiric_residual = [float(np.real(empirical_results[0][j][\"corrected_residual_variance\"])) for j in range(0,400)]\n",
    "empiric_kernel = [float(np.real(empirical_results[0][j][\"ls_estimate\"])) for j in range(0,400)]"
   ]
  },
  {
   "cell_type": "code",
   "execution_count": null,
   "metadata": {
    "collapsed": false
   },
   "outputs": [],
   "source": [
    "plt.plot(cake.frequency_range, empiric_covariance)\n",
    "#plt.xlim(-35,35)\n",
    "#plt.ylim(0,500)"
   ]
  },
  {
   "cell_type": "code",
   "execution_count": null,
   "metadata": {
    "collapsed": false
   },
   "outputs": [],
   "source": [
    "plt.plot(cake.frequency_range, empiric_residual)\n",
    "#plt.xlim(-35,35)"
   ]
  },
  {
   "cell_type": "code",
   "execution_count": null,
   "metadata": {
    "collapsed": true
   },
   "outputs": [],
   "source": []
  }
 ],
 "metadata": {
  "anaconda-cloud": {},
  "kernelspec": {
   "display_name": "Python [conda env:chainer2]",
   "language": "python",
   "name": "conda-env-chainer2-py"
  },
  "language_info": {
   "codemirror_mode": {
    "name": "ipython",
    "version": 2
   },
   "file_extension": ".py",
   "mimetype": "text/x-python",
   "name": "python",
   "nbconvert_exporter": "python",
   "pygments_lexer": "ipython2",
   "version": "2.7.13"
  }
 },
 "nbformat": 4,
 "nbformat_minor": 2
}
